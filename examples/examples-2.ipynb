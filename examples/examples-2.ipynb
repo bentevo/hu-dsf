{
 "cells": [
  {
   "cell_type": "markdown",
   "metadata": {},
   "source": [
    "# Examples week 2\n",
    "## Day 1: lists\n",
    "### Lists basics"
   ]
  },
  {
   "cell_type": "code",
   "execution_count": 1,
   "metadata": {},
   "outputs": [
    {
     "name": "stdout",
     "output_type": "stream",
     "text": [
      "[21, 19, 23]\n"
     ]
    }
   ],
   "source": [
    "# Until now we've only used singular variables. A list can be used to hold multiple values together.\n",
    "# Think of it like a column in a spreadsheet application like Excel\n",
    "# You create an empty list by two square brackets ([])\n",
    "my_list = []\n",
    "\n",
    "# In other programming languages a list can also be called an array\n",
    "\n",
    "# You can pre-fill a list by entering values between the brackets, separated by commas\n",
    "friends_ages = [21, 19, 23]\n",
    "print(friends_ages)"
   ]
  },
  {
   "cell_type": "code",
   "execution_count": 2,
   "metadata": {},
   "outputs": [
    {
     "data": {
      "text/plain": [
       "3"
      ]
     },
     "execution_count": 2,
     "metadata": {},
     "output_type": "execute_result"
    }
   ],
   "source": [
    "# You can put in any regular value type you want, including strings\n",
    "friends_names = [\"Barrie\", \"Tinus\", \"Hans\"]\n",
    "\n",
    "# You can even combine different types of values\n",
    "friends_names_ages = [\"Barrie\", 21, \"Tinus\", 40, \"Hans\", 30]\n",
    "\n",
    "# Actually, a list can contain any value\n",
    "friends_values = [\"Barrie\", 21, True, 5.0] # Note that we also add a boolean and a float\n",
    "\n",
    "# To determine the length of a list, use the len() function\n",
    "len(friends_names)"
   ]
  },
  {
   "cell_type": "code",
   "execution_count": 1,
   "metadata": {},
   "outputs": [
    {
     "name": "stdout",
     "output_type": "stream",
     "text": [
      "Barrie\n",
      "Tinus\n",
      "Hans\n"
     ]
    }
   ],
   "source": [
    "# To loop over the values in a list, use the for statement\n",
    "friends = [\"Barrie\", \"Tinus\", \"Hans\"]\n",
    "\n",
    "for name in friends:\n",
    "    print(name)"
   ]
  },
  {
   "cell_type": "markdown",
   "metadata": {},
   "source": [
    "### List indexing"
   ]
  },
  {
   "cell_type": "code",
   "execution_count": 3,
   "metadata": {},
   "outputs": [
    {
     "name": "stdout",
     "output_type": "stream",
     "text": [
      "Tinus\n",
      "Barrie\n"
     ]
    }
   ],
   "source": [
    "# Only making a list is not very interesting, you want to use it for things\n",
    "# You can access any item in a list by using it's index\n",
    "# List indexes start at zero, not at one!\n",
    "friends = [\"Barrie\", \"Tinus\", \"Hans\"]\n",
    "print(friends[1]) # 'Tinus', not 'Barrie!'\n",
    "print(friends[0]) # Barrie is at index 0"
   ]
  },
  {
   "cell_type": "code",
   "execution_count": 4,
   "metadata": {},
   "outputs": [
    {
     "ename": "IndexError",
     "evalue": "list index out of range",
     "output_type": "error",
     "traceback": [
      "\u001b[0;31m---------------------------------------------------------------------------\u001b[0m",
      "\u001b[0;31mIndexError\u001b[0m                                Traceback (most recent call last)",
      "\u001b[0;32m<ipython-input-4-cc7b5158b46e>\u001b[0m in \u001b[0;36m<module>\u001b[0;34m()\u001b[0m\n\u001b[1;32m      1\u001b[0m \u001b[0;31m# If you try to access an index that isn't in the list, you'll get an 'out of range' error\u001b[0m\u001b[0;34m\u001b[0m\u001b[0;34m\u001b[0m\u001b[0m\n\u001b[0;32m----> 2\u001b[0;31m \u001b[0mfriends\u001b[0m\u001b[0;34m[\u001b[0m\u001b[0;36m3\u001b[0m\u001b[0;34m]\u001b[0m\u001b[0;34m\u001b[0m\u001b[0m\n\u001b[0m",
      "\u001b[0;31mIndexError\u001b[0m: list index out of range"
     ]
    }
   ],
   "source": [
    "# If you try to access an index that isn't in the list, you'll get an 'out of range' error\n",
    "friends[3]"
   ]
  },
  {
   "cell_type": "code",
   "execution_count": 1,
   "metadata": {},
   "outputs": [
    {
     "name": "stdout",
     "output_type": "stream",
     "text": [
      "['Barrie', 'Gerda', 'Hans']\n"
     ]
    }
   ],
   "source": [
    "# Values in a list can be replaced, just like with regular variables\n",
    "friends = [\"Barrie\", \"Tinus\", \"Hans\"]\n",
    "friends[1] = \"Gerda\" # Replace 'Tinus' with 'Gerda'\n",
    "print(friends)"
   ]
  },
  {
   "cell_type": "code",
   "execution_count": 5,
   "metadata": {},
   "outputs": [
    {
     "data": {
      "text/plain": [
       "'Hans'"
      ]
     },
     "execution_count": 5,
     "metadata": {},
     "output_type": "execute_result"
    }
   ],
   "source": [
    "# To start from the end of the list instead of at the beginning you use negative numbers\n",
    "friends[-1] # This should give 'Hans'"
   ]
  },
  {
   "cell_type": "markdown",
   "metadata": {},
   "source": [
    "### List appending"
   ]
  },
  {
   "cell_type": "code",
   "execution_count": 6,
   "metadata": {},
   "outputs": [
    {
     "name": "stdout",
     "output_type": "stream",
     "text": [
      "['Barrie', 'Tinus', 'Hans', 'Nelly', 'Gerda']\n",
      "5\n"
     ]
    }
   ],
   "source": [
    "# To add something to a list you use the append() method\n",
    "friends = [\"Barrie\", \"Tinus\", \"Hans\"]\n",
    "friends.append(\"Nelly\")\n",
    "friends.append(\"Gerda\")\n",
    "print(friends)\n",
    "print(len(friends)) # This will now be '5' instead of '3'."
   ]
  },
  {
   "cell_type": "markdown",
   "metadata": {},
   "source": [
    "### The `in` operator"
   ]
  },
  {
   "cell_type": "code",
   "execution_count": 8,
   "metadata": {},
   "outputs": [
    {
     "name": "stdout",
     "output_type": "stream",
     "text": [
      "True\n",
      "True\n",
      "False\n"
     ]
    }
   ],
   "source": [
    "# Use the 'in' operator to check if a value is in the list\n",
    "print(\"Barrie\" in friends) # True\n",
    "print(\"Tinus\" in friends) # True\n",
    "print(\"Gerrie\" in friends) # False"
   ]
  },
  {
   "cell_type": "markdown",
   "metadata": {},
   "source": [
    "### The `split` and `join` methods"
   ]
  },
  {
   "cell_type": "code",
   "execution_count": 11,
   "metadata": {},
   "outputs": [
    {
     "name": "stdout",
     "output_type": "stream",
     "text": [
      "['Tinus', 'Barrie', 'Hans']\n",
      "Tinus\n",
      "Barrie\n",
      "Hans\n",
      "['Tinus', 'Barrie', 'Hans']\n"
     ]
    }
   ],
   "source": [
    "# One thing you're going to do a lot when working with data is converting strings to\n",
    "# iterable data, like lists. You do that using the .split() method. If no separator is given, \n",
    "# split() assumes you separate strings by whitespace\n",
    "friends = \"Tinus Barrie Hans\"\n",
    "print(friends.split())\n",
    "\n",
    "# Of course, you can also loop over the splitted string\n",
    "for friend in friends.split():\n",
    "    print(friend)\n",
    "    \n",
    "# If you have another way of splitting the string, such as by comma, you need to give an\n",
    "# argument to the split() method, like this:\n",
    "friends = \"Tinus,Barrie,Hans\"\n",
    "friends_list = friends.split(\",\") # Note the comma, which is also a string\n",
    "print(friends_list)"
   ]
  },
  {
   "cell_type": "code",
   "execution_count": 12,
   "metadata": {},
   "outputs": [
    {
     "name": "stdout",
     "output_type": "stream",
     "text": [
      "Tinus\n",
      "Barrie\n",
      "Hans\n"
     ]
    }
   ],
   "source": [
    "# We have seen how to split a string in a list, the other way \n",
    "# around is possible as well, using the .join() method of a string\n",
    "# The string is the character you're going to use to 'stitch' the string together\n",
    "friends = [\"Tinus\", \"Barrie\", \"Hans\"]\n",
    "glue = \"\\n\" # the '\\n' character is special, and used to indicate a newline\n",
    "friends_text = glue.join(friends)\n",
    "print(friends_text)"
   ]
  },
  {
   "cell_type": "markdown",
   "metadata": {},
   "source": [
    "### The `for` statement for strings"
   ]
  },
  {
   "cell_type": "code",
   "execution_count": 4,
   "metadata": {},
   "outputs": [
    {
     "name": "stdout",
     "output_type": "stream",
     "text": [
      "Barrie\n",
      "Tinus\n",
      "Hans\n",
      "B\n",
      "a\n",
      "r\n",
      "r\n",
      "i\n",
      "e\n",
      "1\n",
      "2\n",
      "3\n",
      "4\n",
      "5\n",
      "6\n",
      "7\n",
      "8\n",
      "9\n"
     ]
    }
   ],
   "source": [
    "# Like we mentioned before, we can use the for statement to loop over all values of a list\n",
    "friends = [\"Barrie\", \"Tinus\", \"Hans\"]\n",
    "\n",
    "for name in friends:\n",
    "    print(name)\n",
    "    \n",
    "# 'for' can be used to loop over anything that is 'iterable'. Many things in Python are iterable, even strings!\n",
    "for char in \"Barrie\":\n",
    "    print(char)\n",
    "    \n",
    "# You can use the range() method to count from one number to another\n",
    "# Just like with list slicing, the start number is included, the end number is not\n",
    "for number in range(1, 10):\n",
    "    print(number)"
   ]
  },
  {
   "cell_type": "markdown",
   "metadata": {},
   "source": [
    "### Advanced use of the `for` statement"
   ]
  },
  {
   "cell_type": "code",
   "execution_count": 2,
   "metadata": {},
   "outputs": [
    {
     "name": "stdout",
     "output_type": "stream",
     "text": [
      "Barrie is friend number 0\n",
      "Tinus is friend number 1\n",
      "Hans is friend number 2\n"
     ]
    }
   ],
   "source": [
    "# There are two more useful tricks you can do with the for statement, and both involve the index of a loop\n",
    "# As we saw earlier we can manually track the index of a for loop\n",
    "friends = [\"Barrie\", \"Tinus\", \"Hans\"]\n",
    "\n",
    "index = 0\n",
    "for friend in friends:\n",
    "    print(friend + \" is friend number \" + str(index))\n",
    "    index = index + 1 # Make sure we update this whenever the loop ends"
   ]
  },
  {
   "cell_type": "code",
   "execution_count": 3,
   "metadata": {},
   "outputs": [
    {
     "name": "stdout",
     "output_type": "stream",
     "text": [
      "Barrie is friend number 0\n",
      "Tinus is friend number 1\n",
      "Hans is friend number 2\n"
     ]
    }
   ],
   "source": [
    "# However, Python also provides a method that makes this easier, it's the enumerate method\n",
    "for index, friend in enumerate(friends):\n",
    "    print(friend + \" is friend number \" + str(index))"
   ]
  },
  {
   "cell_type": "code",
   "execution_count": 4,
   "metadata": {},
   "outputs": [
    {
     "name": "stdout",
     "output_type": "stream",
     "text": [
      "Number 0\n",
      "Number 1\n",
      "Number 2\n",
      "Number 3\n",
      "Number 4\n"
     ]
    }
   ],
   "source": [
    "# When you just want to count numbers instead of looping over a list you can use the range() \n",
    "# function, this counts from one number to another, the default starting by zero\n",
    "for number in range(5):\n",
    "    print(\"Number \" + str(number))"
   ]
  },
  {
   "cell_type": "code",
   "execution_count": 5,
   "metadata": {},
   "outputs": [
    {
     "name": "stdout",
     "output_type": "stream",
     "text": [
      "Number 3\n",
      "Number 4\n",
      "Number 5\n",
      "Number 6\n",
      "Number 7\n"
     ]
    }
   ],
   "source": [
    "# To start from another number than zero, give two arguments to range()\n",
    "for number in range(3, 8):\n",
    "    print(\"Number \" + str(number))\n",
    "\n",
    "# Note how it includes 3, but doesn't include 8"
   ]
  },
  {
   "cell_type": "code",
   "execution_count": 8,
   "metadata": {},
   "outputs": [
    {
     "name": "stdout",
     "output_type": "stream",
     "text": [
      "Barrie\n",
      "Tinus\n",
      "Hans\n",
      "Barrie\n",
      "Tinus\n",
      "Hans\n"
     ]
    }
   ],
   "source": [
    "# Let's take a look at a simple loop we wrote earlier\n",
    "friends = [\"Barrie\", \"Tinus\", \"Hans\"]\n",
    "for friend in friends:\n",
    "    print(friend)\n",
    "\n",
    "# Observe how Python is actually doing this behind the scenes\n",
    "friends_length = len(friends)\n",
    "for index in range(0, friends_length):\n",
    "    friend = friends[index]\n",
    "    print(friend)"
   ]
  },
  {
   "cell_type": "markdown",
   "metadata": {},
   "source": [
    "## Day 2\n",
    "### List slicing"
   ]
  },
  {
   "cell_type": "code",
   "execution_count": 7,
   "metadata": {},
   "outputs": [
    {
     "name": "stdout",
     "output_type": "stream",
     "text": [
      "['Tinus', 'Hans']\n",
      "['Hans', 'Nelly', 'Gerda']\n",
      "['Barrie', 'Tinus', 'Hans']\n"
     ]
    }
   ],
   "source": [
    "friends = [\"Barrie\", \"Tinus\", \"Hans\", \"Nelly\", \"Gerda\"]\n",
    "\n",
    "# To get a selection of elements from a list you 'slice' it\n",
    "# The start index is included, the end index is not\n",
    "print(friends[1:3]) \n",
    "\n",
    "# Omit the beginning and return the list\n",
    "print(friends[2:])\n",
    "\n",
    "# Omit the end and return the list\n",
    "print(friends[:3])"
   ]
  },
  {
   "cell_type": "markdown",
   "metadata": {},
   "source": [
    "### List methods"
   ]
  },
  {
   "cell_type": "code",
   "execution_count": 9,
   "metadata": {},
   "outputs": [
    {
     "name": "stdout",
     "output_type": "stream",
     "text": [
      "['Hans', 'Nelly', 'Tinus', 'Barrie']\n",
      "['Hans', 'Nelly', 'Tinus']\n",
      "['Hans', 'Tinus']\n"
     ]
    }
   ],
   "source": [
    "# Lists have more methods, just like strings, that can be used for various uses\n",
    "friends = [\"Hans\", \"Nelly\"]\n",
    "\n",
    "# Mentioned earlier, .append() adds something to a list\n",
    "friends.append(\"Tinus\")\n",
    "friends.append(\"Barrie\")\n",
    "print(friends)\n",
    "\n",
    "# To remove the last item, use .pop()\n",
    "friends.pop()\n",
    "print(friends)\n",
    "\n",
    "# Add an index number to pop() to remove something at a specific index\n",
    "friends.pop(1) # Removes 'Nelly' at index 1\n",
    "print(friends)"
   ]
  },
  {
   "cell_type": "markdown",
   "metadata": {},
   "source": [
    "### Multidimensional lists"
   ]
  },
  {
   "cell_type": "code",
   "execution_count": 1,
   "metadata": {},
   "outputs": [
    {
     "name": "stdout",
     "output_type": "stream",
     "text": [
      "['Barrie', 'monkey']\n",
      "Barrie is a monkey\n",
      "Hello\n"
     ]
    }
   ],
   "source": [
    "# Remember i said that a list can contain any other value? A list can also contain *other* lists\n",
    "friends = [\n",
    "    [\"Barrie\", \"monkey\"],\n",
    "    [\"Tinus\", \"hamster\"]\n",
    "]\n",
    "\n",
    "# To access the 'deeper' values, you use another set of square brackets\n",
    "print(friends[0]) # Gets you the first sublist\n",
    "\n",
    "name = friends[0][0] # The first item in the first sublist\n",
    "species = friends[0][1] # The second item in the first sublist\n",
    "print(name + \" is a \" + species)\n",
    "\n",
    "# Lists that contain other lists are called 'multidimensional' or 'nested' lists sometimes\n",
    "# The nesting can be infinite\n",
    "message = [\n",
    "    [\n",
    "        [\n",
    "            [\n",
    "                \"Hello\"\n",
    "            ]\n",
    "        ]\n",
    "    ]\n",
    "]\n",
    "\n",
    "print(message[0][0][0][0]) # Four levels deep!\n",
    "\n",
    "# But generally speaking, one or two levels is usually enough for most purposes"
   ]
  },
  {
   "cell_type": "markdown",
   "metadata": {},
   "source": [
    "### The `while` statement"
   ]
  },
  {
   "cell_type": "code",
   "execution_count": 13,
   "metadata": {},
   "outputs": [
    {
     "name": "stdout",
     "output_type": "stream",
     "text": [
      "1\n",
      "2\n",
      "3\n",
      "4\n",
      "5\n",
      "Loop is ready\n"
     ]
    }
   ],
   "source": [
    "# Another type of loop (the for statement creates a loop) is the while loop\n",
    "# while only uses one condition, as long as that is valid, it will keep running\n",
    "\n",
    "number = 0\n",
    "while number < 5:\n",
    "    # This piece of code will keep running until number is 5 or bigger\n",
    "    # Note how code in a while loop also needs to be indented. Every piece of code\n",
    "    # that is indented will become part of this loop\n",
    "    number = number + 1 # number is the same as number, but one higher\n",
    "    print(number)\n",
    "    \n",
    "print(\"Loop is ready\") # Not indented, so no longer part of the while loop"
   ]
  },
  {
   "cell_type": "code",
   "execution_count": 14,
   "metadata": {},
   "outputs": [
    {
     "name": "stdout",
     "output_type": "stream",
     "text": [
      "What's the magic word? stroopwafel\n",
      "Valid password!\n"
     ]
    }
   ],
   "source": [
    "# You can get out earlier out of a while or for loop by using the break statement, \n",
    "# this can be handy in terminal programs, where you want to wait for the user\n",
    "# to give some kind of input\n",
    "while True:\n",
    "    password = input(\"What's the magic word? \") # Note the extra space after the question mark again\n",
    "    \n",
    "    if password == \"stroopwafel\":\n",
    "        break\n",
    "    else:\n",
    "        print(\"Invalid password!\")\n",
    "\n",
    "print(\"Valid password!\")"
   ]
  },
  {
   "cell_type": "markdown",
   "metadata": {},
   "source": [
    "### Files"
   ]
  },
  {
   "cell_type": "code",
   "execution_count": 15,
   "metadata": {},
   "outputs": [
    {
     "name": "stdout",
     "output_type": "stream",
     "text": [
      "Lionel Messi\n",
      "Cristiano Ronaldo\n",
      "Neymar\n",
      "Gareth Bale\n",
      "Paul Pogba\n"
     ]
    }
   ],
   "source": [
    "# Files can be opened by using the open() command. Note that if you just provide a filename,\n",
    "# the file needs to be in the same directory\n",
    "footballers = open(\"footballers.txt\")\n",
    "\n",
    "# You can inspect the contens of a file by using the read() method\n",
    "print(footballers.read())\n",
    "\n",
    "# If we're ready with a file, we need to close it\n",
    "footballers.close()"
   ]
  },
  {
   "cell_type": "code",
   "execution_count": 16,
   "metadata": {},
   "outputs": [
    {
     "name": "stdout",
     "output_type": "stream",
     "text": [
      "Lionel Messi\n",
      " is a great player\n",
      "Cristiano Ronaldo\n",
      " is a great player\n",
      "Neymar\n",
      " is a great player\n",
      "Gareth Bale\n",
      " is a great player\n",
      "Paul Pogba is a great player\n"
     ]
    }
   ],
   "source": [
    "footballers = open(\"footballers.txt\")\n",
    "\n",
    "# Just like a list, we can iterate over a file using the for statement\n",
    "for player in footballers:\n",
    "    print(player + \" is a great player\")\n",
    "\n",
    "footballers.close()"
   ]
  },
  {
   "cell_type": "code",
   "execution_count": 6,
   "metadata": {},
   "outputs": [
    {
     "name": "stdout",
     "output_type": "stream",
     "text": [
      "TinusBarrieHans\n"
     ]
    }
   ],
   "source": [
    "# To write to a file we also use the open() function, but we add an extra argument with \n",
    "# just the character 'w' (for 'write'). After that we can use the .write() method of \n",
    "# the file object to add a line of text\n",
    "friends = [\"Tinus\", \"Barrie\", \"Hans\"]\n",
    "friends_file = open(\"friends.txt\", \"w\") # Note the 'w' there\n",
    "\n",
    "for friend in friends:\n",
    "    # Now write the friends' name to the file\n",
    "    friends_file.write(friend) \n",
    "    \n",
    "friends_file.close() # We also need to close this, otherwise we can't re-open it!\n",
    "\n",
    "# Let's see if this file has been written correctly!\n",
    "f = open(\"friends.txt\") \n",
    "\n",
    "for friend in f:\n",
    "    print(friend)\n",
    "    \n",
    "f.close()"
   ]
  },
  {
   "cell_type": "code",
   "execution_count": 7,
   "metadata": {},
   "outputs": [],
   "source": [
    "# Note how we get a weird result, it's just one long string now\n",
    "# This is because we need to tell Python to write a newline to the end of\n",
    "# every name. This can be done by adding the character \\n to the end of a string.\n",
    "f = open(\"friends.txt\", \"w\")\n",
    "for friend in friends:\n",
    "    f.write(friend + \"\\n\")"
   ]
  },
  {
   "cell_type": "code",
   "execution_count": 10,
   "metadata": {},
   "outputs": [
    {
     "name": "stdout",
     "output_type": "stream",
     "text": [
      "['Tinus', 'Barrie', 'Hans']\n"
     ]
    }
   ],
   "source": [
    "# Another way to open a file is using the `with` statement, this just a shortcut\n",
    "# to make sure you don't forget to close the file\n",
    "with open(\"friends.txt\") as f:\n",
    "    friends = f.read().splitlines()\n",
    "\n",
    "print(friends)"
   ]
  },
  {
   "cell_type": "code",
   "execution_count": 12,
   "metadata": {},
   "outputs": [
    {
     "name": "stdout",
     "output_type": "stream",
     "text": [
      "['Tinus', 'Barrie', 'Hans']\n"
     ]
    }
   ],
   "source": [
    "# Is the same as\n",
    "f = open(\"friends.txt\")\n",
    "friends = f.read().splitlines()\n",
    "f.close()\n",
    "\n",
    "print(friends)"
   ]
  },
  {
   "cell_type": "markdown",
   "metadata": {},
   "source": [
    "### The `csv` format"
   ]
  },
  {
   "cell_type": "code",
   "execution_count": 18,
   "metadata": {},
   "outputs": [
    {
     "name": "stdout",
     "output_type": "stream",
     "text": [
      "Neymar,Paris Saint-Germain,222\n",
      "\n",
      "Kylian Mbappé,Paris Saint-Germain,145\n",
      "\n",
      "Philippe Coutinho,Barcelona,120\n",
      "\n",
      "Ousmane Dembélé,Barcelona,105\n",
      "\n",
      "Paul Pogba,Manchester United,105\n"
     ]
    }
   ],
   "source": [
    "# One format that you're going to use a lot when doing data manipulation is called CSV\n",
    "# CSV stands for comma-separated values and is a way to save tabular data (like an Excel spreadsheet)\n",
    "# in a text file format. It's extremely useful for data manipulation.\n",
    "# There's a CSV file called 'footballers.csv' in this directory that contains the\n",
    "# five most expensive football transfers ever, including their name, club that bought them, \n",
    "# and the transfer sum in million euros\n",
    "#\n",
    "# As an exercise, try opening that using the techniques you learned in this notebook and print something\n",
    "# like this:\n",
    "#\n",
    "# 'Neymar went to Paris Saint-Germain for 222 million euros'\n",
    "# 'Kylian Mbappé went to Paris Saint-Germain for 145 million euros',\n",
    "# etcetera.\n",
    "#\n",
    "# Hint: you'll need the split() and trim() methods for strings\n",
    "\n",
    "csv = open(\"footballers.csv\")\n",
    "\n",
    "for line in csv:\n",
    "    # Parse the CSV file in this block!\n",
    "    print(line)\n",
    "    \n",
    "csv.close()"
   ]
  }
 ],
 "metadata": {
  "kernelspec": {
   "display_name": "Python 3",
   "language": "python",
   "name": "python3"
  },
  "language_info": {
   "codemirror_mode": {
    "name": "ipython",
    "version": 3
   },
   "file_extension": ".py",
   "mimetype": "text/x-python",
   "name": "python",
   "nbconvert_exporter": "python",
   "pygments_lexer": "ipython3",
   "version": "3.6.5"
  }
 },
 "nbformat": 4,
 "nbformat_minor": 2
}
